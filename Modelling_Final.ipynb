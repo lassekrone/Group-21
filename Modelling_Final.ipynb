{
 "cells": [
  {
   "cell_type": "code",
   "execution_count": 234,
   "metadata": {},
   "outputs": [],
   "source": [
    "import numpy as np\n",
    "import pandas as pd\n",
    "import matplotlib.pyplot as plt\n",
    "import seaborn as sns\n",
    "import random\n",
    "import scraping_class\n",
    "from tqdm import tqdm\n",
    "from webdriver_manager.chrome import ChromeDriverManager\n",
    "import requests\n",
    "from selenium import webdriver\n",
    "import selenium\n",
    "from selenium.webdriver.common.keys import Keys\n",
    "from bs4 import BeautifulSoup\n",
    "import re\n",
    "import time\n",
    "\n",
    "from sklearn.pipeline import make_pipeline\n",
    "from sklearn.preprocessing import StandardScaler, PolynomialFeatures\n",
    "from sklearn.model_selection import KFold, train_test_split, GridSearchCV, learning_curve\n",
    "from sklearn.linear_model import LinearRegression, Lasso, ElasticNet\n",
    "from sklearn.metrics import mean_squared_error as mse"
   ]
  },
  {
   "cell_type": "markdown",
   "metadata": {},
   "source": [
    "# Section X: Modelling"
   ]
  },
  {
   "cell_type": "markdown",
   "metadata": {},
   "source": [
    "## Determining the Framework of the Model"
   ]
  },
  {
   "cell_type": "markdown",
   "metadata": {},
   "source": [
    "As we are trying to predict the rating of wines based on a number of characteristics, our target parameter is continuous. As such, we wish to make a regression model and find the model that performs the best measured by having the lowest mean squared error/root mean squared error. As we are training a Machine Learning model in order to find a function that maps input variables to a target/output variable with data containing known input-output-pairs, this is a case of Supervised Machine Learning. We compare different linear models (OLS, Lasso, Ridge Regression, Elastic Net; all with Cross Validation) and optimise their hyperparameters in order to find the most accurate model for our data. "
   ]
  },
  {
   "cell_type": "markdown",
   "metadata": {},
   "source": [
    "** (Description of the different models we are going to construct and their hyperparameters) **"
   ]
  },
  {
   "cell_type": "markdown",
   "metadata": {},
   "source": [
    "## Exploring our Data"
   ]
  },
  {
   "cell_type": "markdown",
   "metadata": {},
   "source": [
    "In section XX we cleaned our data and it is now ready to preprocess in order to use it for modelling. The cleaned data looks like the following: "
   ]
  },
  {
   "cell_type": "code",
   "execution_count": 235,
   "metadata": {},
   "outputs": [
    {
     "data": {
      "text/html": [
       "<div>\n",
       "<style scoped>\n",
       "    .dataframe tbody tr th:only-of-type {\n",
       "        vertical-align: middle;\n",
       "    }\n",
       "\n",
       "    .dataframe tbody tr th {\n",
       "        vertical-align: top;\n",
       "    }\n",
       "\n",
       "    .dataframe thead th {\n",
       "        text-align: right;\n",
       "    }\n",
       "</style>\n",
       "<table border=\"1\" class=\"dataframe\">\n",
       "  <thead>\n",
       "    <tr style=\"text-align: right;\">\n",
       "      <th></th>\n",
       "      <th>name</th>\n",
       "      <th>rating</th>\n",
       "      <th>sub_region</th>\n",
       "      <th>year</th>\n",
       "      <th>price, kr.</th>\n",
       "      <th>light-bold</th>\n",
       "      <th>smooth-tannic</th>\n",
       "      <th>dry-sweet</th>\n",
       "      <th>soft-acidic</th>\n",
       "      <th>winery</th>\n",
       "      <th>light-bold-cat</th>\n",
       "      <th>smooth-tannic-cat</th>\n",
       "      <th>dry-sweet-cat</th>\n",
       "      <th>soft-acidic-cat</th>\n",
       "      <th>region</th>\n",
       "      <th>kompas</th>\n",
       "      <th>kompas2</th>\n",
       "    </tr>\n",
       "  </thead>\n",
       "  <tbody>\n",
       "    <tr>\n",
       "      <th>0</th>\n",
       "      <td>Zinfandel</td>\n",
       "      <td>3.5</td>\n",
       "      <td>Puglia</td>\n",
       "      <td>2019</td>\n",
       "      <td>68.00</td>\n",
       "      <td>0.650714</td>\n",
       "      <td>0.180267</td>\n",
       "      <td>0.450025</td>\n",
       "      <td>0.081305</td>\n",
       "      <td>Mammoth</td>\n",
       "      <td>semi bold</td>\n",
       "      <td>smooth</td>\n",
       "      <td>sweet</td>\n",
       "      <td>soft</td>\n",
       "      <td>Puglia</td>\n",
       "      <td>East</td>\n",
       "      <td>South-east</td>\n",
       "    </tr>\n",
       "    <tr>\n",
       "      <th>1</th>\n",
       "      <td>Rèmole Rosso</td>\n",
       "      <td>3.7</td>\n",
       "      <td>Toscana</td>\n",
       "      <td>2019</td>\n",
       "      <td>46.18</td>\n",
       "      <td>0.398265</td>\n",
       "      <td>0.359694</td>\n",
       "      <td>0.007172</td>\n",
       "      <td>0.423663</td>\n",
       "      <td>Frescobaldi</td>\n",
       "      <td>semi light</td>\n",
       "      <td>semi smooth</td>\n",
       "      <td>dry</td>\n",
       "      <td>semi acidic</td>\n",
       "      <td>Toscana</td>\n",
       "      <td>North</td>\n",
       "      <td>North-west</td>\n",
       "    </tr>\n",
       "    <tr>\n",
       "      <th>2</th>\n",
       "      <td>Pillastro Primitivo Puglia</td>\n",
       "      <td>4.0</td>\n",
       "      <td>Puglia</td>\n",
       "      <td>2019</td>\n",
       "      <td>69.00</td>\n",
       "      <td>0.654441</td>\n",
       "      <td>0.154082</td>\n",
       "      <td>0.387048</td>\n",
       "      <td>0.066308</td>\n",
       "      <td>Cantine due Palme</td>\n",
       "      <td>semi bold</td>\n",
       "      <td>smooth</td>\n",
       "      <td>semi sweet</td>\n",
       "      <td>soft</td>\n",
       "      <td>Puglia</td>\n",
       "      <td>East</td>\n",
       "      <td>South-east</td>\n",
       "    </tr>\n",
       "    <tr>\n",
       "      <th>3</th>\n",
       "      <td>Nero d'Avola Terre Siciliane</td>\n",
       "      <td>3.7</td>\n",
       "      <td>Terre Siciliane</td>\n",
       "      <td>2019</td>\n",
       "      <td>69.00</td>\n",
       "      <td>0.825000</td>\n",
       "      <td>0.333765</td>\n",
       "      <td>0.254032</td>\n",
       "      <td>0.195008</td>\n",
       "      <td>Massivo</td>\n",
       "      <td>bold</td>\n",
       "      <td>semi smooth</td>\n",
       "      <td>semi dry</td>\n",
       "      <td>soft</td>\n",
       "      <td>Sicilia</td>\n",
       "      <td>South</td>\n",
       "      <td>South</td>\n",
       "    </tr>\n",
       "    <tr>\n",
       "      <th>4</th>\n",
       "      <td>Fantini Sangiovese Terre di Chieti</td>\n",
       "      <td>3.6</td>\n",
       "      <td>Terre di Chieti</td>\n",
       "      <td>2019</td>\n",
       "      <td>84.17</td>\n",
       "      <td>0.423702</td>\n",
       "      <td>0.328743</td>\n",
       "      <td>0.065326</td>\n",
       "      <td>0.403992</td>\n",
       "      <td>Farnese</td>\n",
       "      <td>semi light</td>\n",
       "      <td>semi smooth</td>\n",
       "      <td>dry</td>\n",
       "      <td>semi soft</td>\n",
       "      <td>Abruzzo</td>\n",
       "      <td>East</td>\n",
       "      <td>East</td>\n",
       "    </tr>\n",
       "  </tbody>\n",
       "</table>\n",
       "</div>"
      ],
      "text/plain": [
       "                                  name  rating       sub_region  year  \\\n",
       "0                           Zinfandel      3.5           Puglia  2019   \n",
       "1                        Rèmole Rosso      3.7          Toscana  2019   \n",
       "2          Pillastro Primitivo Puglia      4.0           Puglia  2019   \n",
       "3        Nero d'Avola Terre Siciliane      3.7  Terre Siciliane  2019   \n",
       "4  Fantini Sangiovese Terre di Chieti      3.6  Terre di Chieti  2019   \n",
       "\n",
       "   price, kr.  light-bold  smooth-tannic  dry-sweet  soft-acidic  \\\n",
       "0       68.00    0.650714       0.180267   0.450025     0.081305   \n",
       "1       46.18    0.398265       0.359694   0.007172     0.423663   \n",
       "2       69.00    0.654441       0.154082   0.387048     0.066308   \n",
       "3       69.00    0.825000       0.333765   0.254032     0.195008   \n",
       "4       84.17    0.423702       0.328743   0.065326     0.403992   \n",
       "\n",
       "              winery light-bold-cat smooth-tannic-cat dry-sweet-cat  \\\n",
       "0            Mammoth      semi bold            smooth         sweet   \n",
       "1        Frescobaldi     semi light       semi smooth           dry   \n",
       "2  Cantine due Palme      semi bold            smooth    semi sweet   \n",
       "3            Massivo           bold       semi smooth      semi dry   \n",
       "4            Farnese     semi light       semi smooth           dry   \n",
       "\n",
       "  soft-acidic-cat   region kompas     kompas2  \n",
       "0            soft   Puglia   East  South-east  \n",
       "1     semi acidic  Toscana  North  North-west  \n",
       "2            soft   Puglia   East  South-east  \n",
       "3            soft  Sicilia  South       South  \n",
       "4       semi soft  Abruzzo   East        East  "
      ]
     },
     "execution_count": 235,
     "metadata": {},
     "output_type": "execute_result"
    }
   ],
   "source": [
    "df_cleaned = pd.read_csv('merged_data2.csv', index_col=0)\n",
    "df_cleaned.head()"
   ]
  },
  {
   "cell_type": "markdown",
   "metadata": {},
   "source": [
    "Although our dataset is structured and cleaned for e.g. missing values, we still want to make sure that the data is ready for modelling. This includes converting some columns into dummy variables, checking data to see whether it is balanced in regards to the rating variable, detecting and removing possible outliers and inspecting the correlations between the input variables."
   ]
  },
  {
   "cell_type": "markdown",
   "metadata": {},
   "source": [
    "### Converting Columns into Dummy Variables"
   ]
  },
  {
   "cell_type": "markdown",
   "metadata": {},
   "source": [
    "As we have some categorical variables in our dataset, we want to turn these into dummy variables containing binary values 0 or 1. "
   ]
  },
  {
   "cell_type": "markdown",
   "metadata": {},
   "source": [
    "**QUESTION: Should dummy variables be converted to categorical variables?**"
   ]
  },
  {
   "cell_type": "code",
   "execution_count": 239,
   "metadata": {},
   "outputs": [
    {
     "ename": "TypeError",
     "evalue": "data type \"category\" not understood",
     "output_type": "error",
     "traceback": [
      "\u001b[0;31m---------------------------------------------------------------------------\u001b[0m",
      "\u001b[0;31mTypeError\u001b[0m                                 Traceback (most recent call last)",
      "\u001b[0;32m<ipython-input-239-bd76864d4ef9>\u001b[0m in \u001b[0;36m<module>\u001b[0;34m\u001b[0m\n\u001b[0;32m----> 1\u001b[0;31m \u001b[0mdummies\u001b[0m \u001b[0;34m=\u001b[0m \u001b[0mpd\u001b[0m\u001b[0;34m.\u001b[0m\u001b[0mget_dummies\u001b[0m\u001b[0;34m(\u001b[0m\u001b[0mdf_cleaned\u001b[0m\u001b[0;34m,\u001b[0m \u001b[0mcolumns\u001b[0m\u001b[0;34m=\u001b[0m\u001b[0;34m[\u001b[0m\u001b[0;34m'region'\u001b[0m\u001b[0;34m]\u001b[0m\u001b[0;34m,\u001b[0m \u001b[0mdrop_first\u001b[0m\u001b[0;34m=\u001b[0m\u001b[0;32mTrue\u001b[0m\u001b[0;34m,\u001b[0m \u001b[0mdtype\u001b[0m\u001b[0;34m=\u001b[0m\u001b[0;34m'category'\u001b[0m\u001b[0;34m)\u001b[0m\u001b[0;34m\u001b[0m\u001b[0;34m\u001b[0m\u001b[0m\n\u001b[0m\u001b[1;32m      2\u001b[0m \u001b[0mdf_ready\u001b[0m \u001b[0;34m=\u001b[0m \u001b[0mpd\u001b[0m\u001b[0;34m.\u001b[0m\u001b[0mconcat\u001b[0m\u001b[0;34m(\u001b[0m\u001b[0;34m[\u001b[0m\u001b[0mdf_cleaned\u001b[0m\u001b[0;34m,\u001b[0m \u001b[0mdummies\u001b[0m\u001b[0;34m]\u001b[0m\u001b[0;34m,\u001b[0m \u001b[0maxis\u001b[0m\u001b[0;34m=\u001b[0m\u001b[0;36m1\u001b[0m\u001b[0;34m,\u001b[0m \u001b[0mjoin\u001b[0m\u001b[0;34m=\u001b[0m\u001b[0;34m'outer'\u001b[0m\u001b[0;34m)\u001b[0m\u001b[0;34m\u001b[0m\u001b[0;34m\u001b[0m\u001b[0m\n\u001b[1;32m      3\u001b[0m \u001b[0;31m#df_ready.drop(['name', 'subregion', 'winery', 'light-bold cat', 'smooth-tannic cat', 'dry-sweet cat', 'soft-acidic cat', 'kompas', 'kompas2'], inplace=True, axis=1)\u001b[0m\u001b[0;34m\u001b[0m\u001b[0;34m\u001b[0m\u001b[0;34m\u001b[0m\u001b[0m\n\u001b[1;32m      4\u001b[0m \u001b[0;31m#df_ready = df_ready.iloc[:, 6:]\u001b[0m\u001b[0;34m\u001b[0m\u001b[0;34m\u001b[0m\u001b[0;34m\u001b[0m\u001b[0m\n\u001b[1;32m      5\u001b[0m \u001b[0;34m\u001b[0m\u001b[0m\n",
      "\u001b[0;32m~/opt/anaconda3/lib/python3.7/site-packages/pandas/core/reshape/reshape.py\u001b[0m in \u001b[0;36mget_dummies\u001b[0;34m(data, prefix, prefix_sep, dummy_na, columns, sparse, drop_first, dtype)\u001b[0m\n\u001b[1;32m    920\u001b[0m                 \u001b[0msparse\u001b[0m\u001b[0;34m=\u001b[0m\u001b[0msparse\u001b[0m\u001b[0;34m,\u001b[0m\u001b[0;34m\u001b[0m\u001b[0;34m\u001b[0m\u001b[0m\n\u001b[1;32m    921\u001b[0m                 \u001b[0mdrop_first\u001b[0m\u001b[0;34m=\u001b[0m\u001b[0mdrop_first\u001b[0m\u001b[0;34m,\u001b[0m\u001b[0;34m\u001b[0m\u001b[0;34m\u001b[0m\u001b[0m\n\u001b[0;32m--> 922\u001b[0;31m                 \u001b[0mdtype\u001b[0m\u001b[0;34m=\u001b[0m\u001b[0mdtype\u001b[0m\u001b[0;34m,\u001b[0m\u001b[0;34m\u001b[0m\u001b[0;34m\u001b[0m\u001b[0m\n\u001b[0m\u001b[1;32m    923\u001b[0m             )\n\u001b[1;32m    924\u001b[0m             \u001b[0mwith_dummies\u001b[0m\u001b[0;34m.\u001b[0m\u001b[0mappend\u001b[0m\u001b[0;34m(\u001b[0m\u001b[0mdummy\u001b[0m\u001b[0;34m)\u001b[0m\u001b[0;34m\u001b[0m\u001b[0;34m\u001b[0m\u001b[0m\n",
      "\u001b[0;32m~/opt/anaconda3/lib/python3.7/site-packages/pandas/core/reshape/reshape.py\u001b[0m in \u001b[0;36m_get_dummies_1d\u001b[0;34m(data, prefix, prefix_sep, dummy_na, sparse, drop_first, dtype)\u001b[0m\n\u001b[1;32m    953\u001b[0m     \u001b[0;32mif\u001b[0m \u001b[0mdtype\u001b[0m \u001b[0;32mis\u001b[0m \u001b[0;32mNone\u001b[0m\u001b[0;34m:\u001b[0m\u001b[0;34m\u001b[0m\u001b[0;34m\u001b[0m\u001b[0m\n\u001b[1;32m    954\u001b[0m         \u001b[0mdtype\u001b[0m \u001b[0;34m=\u001b[0m \u001b[0mnp\u001b[0m\u001b[0;34m.\u001b[0m\u001b[0muint8\u001b[0m\u001b[0;34m\u001b[0m\u001b[0;34m\u001b[0m\u001b[0m\n\u001b[0;32m--> 955\u001b[0;31m     \u001b[0mdtype\u001b[0m \u001b[0;34m=\u001b[0m \u001b[0mnp\u001b[0m\u001b[0;34m.\u001b[0m\u001b[0mdtype\u001b[0m\u001b[0;34m(\u001b[0m\u001b[0mdtype\u001b[0m\u001b[0;34m)\u001b[0m\u001b[0;34m\u001b[0m\u001b[0;34m\u001b[0m\u001b[0m\n\u001b[0m\u001b[1;32m    956\u001b[0m \u001b[0;34m\u001b[0m\u001b[0m\n\u001b[1;32m    957\u001b[0m     \u001b[0;32mif\u001b[0m \u001b[0mis_object_dtype\u001b[0m\u001b[0;34m(\u001b[0m\u001b[0mdtype\u001b[0m\u001b[0;34m)\u001b[0m\u001b[0;34m:\u001b[0m\u001b[0;34m\u001b[0m\u001b[0;34m\u001b[0m\u001b[0m\n",
      "\u001b[0;31mTypeError\u001b[0m: data type \"category\" not understood"
     ]
    }
   ],
   "source": [
    "dummies = pd.get_dummies(df_cleaned, columns=['region'], drop_first=True, dtype=)\n",
    "df_ready = pd.concat([df_cleaned, dummies], axis=1, join='outer')\n",
    "#df_ready.drop(['name', 'subregion', 'winery', 'light-bold cat', 'smooth-tannic cat', 'dry-sweet cat', 'soft-acidic cat', 'kompas', 'kompas2'], inplace=True, axis=1)\n",
    "#df_ready = df_ready.iloc[:, 6:]\n",
    "\n",
    "df_ready"
   ]
  },
  {
   "cell_type": "markdown",
   "metadata": {},
   "source": [
    "### Statistical Information"
   ]
  },
  {
   "cell_type": "markdown",
   "metadata": {},
   "source": [
    "To get started we run a simple description function to get a sense of the statistic information of the dataset: "
   ]
  },
  {
   "cell_type": "code",
   "execution_count": 7,
   "metadata": {},
   "outputs": [
    {
     "data": {
      "text/html": [
       "<div>\n",
       "<style scoped>\n",
       "    .dataframe tbody tr th:only-of-type {\n",
       "        vertical-align: middle;\n",
       "    }\n",
       "\n",
       "    .dataframe tbody tr th {\n",
       "        vertical-align: top;\n",
       "    }\n",
       "\n",
       "    .dataframe thead th {\n",
       "        text-align: right;\n",
       "    }\n",
       "</style>\n",
       "<table border=\"1\" class=\"dataframe\">\n",
       "  <thead>\n",
       "    <tr style=\"text-align: right;\">\n",
       "      <th></th>\n",
       "      <th>rating</th>\n",
       "      <th>year</th>\n",
       "      <th>price, kr.</th>\n",
       "      <th>light-bold</th>\n",
       "      <th>smooth-tannic</th>\n",
       "      <th>dry-sweet</th>\n",
       "      <th>soft-acidic</th>\n",
       "    </tr>\n",
       "  </thead>\n",
       "  <tbody>\n",
       "    <tr>\n",
       "      <th>count</th>\n",
       "      <td>1998.000000</td>\n",
       "      <td>1998.000000</td>\n",
       "      <td>1998.000000</td>\n",
       "      <td>1998.000000</td>\n",
       "      <td>1998.000000</td>\n",
       "      <td>1998.000000</td>\n",
       "      <td>1998.000000</td>\n",
       "    </tr>\n",
       "    <tr>\n",
       "      <th>mean</th>\n",
       "      <td>4.156306</td>\n",
       "      <td>2011.618619</td>\n",
       "      <td>466.417087</td>\n",
       "      <td>59.778599</td>\n",
       "      <td>42.925233</td>\n",
       "      <td>16.018075</td>\n",
       "      <td>44.240954</td>\n",
       "    </tr>\n",
       "    <tr>\n",
       "      <th>std</th>\n",
       "      <td>0.377202</td>\n",
       "      <td>6.876600</td>\n",
       "      <td>820.950823</td>\n",
       "      <td>13.438114</td>\n",
       "      <td>17.512666</td>\n",
       "      <td>14.971164</td>\n",
       "      <td>22.164655</td>\n",
       "    </tr>\n",
       "    <tr>\n",
       "      <th>min</th>\n",
       "      <td>2.800000</td>\n",
       "      <td>1917.000000</td>\n",
       "      <td>11.750000</td>\n",
       "      <td>23.159000</td>\n",
       "      <td>11.232600</td>\n",
       "      <td>0.000000</td>\n",
       "      <td>0.866660</td>\n",
       "    </tr>\n",
       "    <tr>\n",
       "      <th>25%</th>\n",
       "      <td>3.900000</td>\n",
       "      <td>2010.000000</td>\n",
       "      <td>122.937500</td>\n",
       "      <td>49.036025</td>\n",
       "      <td>32.288225</td>\n",
       "      <td>4.087760</td>\n",
       "      <td>24.354375</td>\n",
       "    </tr>\n",
       "    <tr>\n",
       "      <th>50%</th>\n",
       "      <td>4.200000</td>\n",
       "      <td>2013.000000</td>\n",
       "      <td>249.000000</td>\n",
       "      <td>59.834600</td>\n",
       "      <td>39.371750</td>\n",
       "      <td>10.257050</td>\n",
       "      <td>42.340550</td>\n",
       "    </tr>\n",
       "    <tr>\n",
       "      <th>75%</th>\n",
       "      <td>4.500000</td>\n",
       "      <td>2016.000000</td>\n",
       "      <td>495.000000</td>\n",
       "      <td>66.941950</td>\n",
       "      <td>53.829775</td>\n",
       "      <td>25.211500</td>\n",
       "      <td>61.699125</td>\n",
       "    </tr>\n",
       "    <tr>\n",
       "      <th>max</th>\n",
       "      <td>4.900000</td>\n",
       "      <td>2019.000000</td>\n",
       "      <td>11500.000000</td>\n",
       "      <td>82.500000</td>\n",
       "      <td>82.500000</td>\n",
       "      <td>58.649100</td>\n",
       "      <td>82.500000</td>\n",
       "    </tr>\n",
       "  </tbody>\n",
       "</table>\n",
       "</div>"
      ],
      "text/plain": [
       "            rating         year    price, kr.   light-bold  smooth-tannic  \\\n",
       "count  1998.000000  1998.000000   1998.000000  1998.000000    1998.000000   \n",
       "mean      4.156306  2011.618619    466.417087    59.778599      42.925233   \n",
       "std       0.377202     6.876600    820.950823    13.438114      17.512666   \n",
       "min       2.800000  1917.000000     11.750000    23.159000      11.232600   \n",
       "25%       3.900000  2010.000000    122.937500    49.036025      32.288225   \n",
       "50%       4.200000  2013.000000    249.000000    59.834600      39.371750   \n",
       "75%       4.500000  2016.000000    495.000000    66.941950      53.829775   \n",
       "max       4.900000  2019.000000  11500.000000    82.500000      82.500000   \n",
       "\n",
       "         dry-sweet  soft-acidic  \n",
       "count  1998.000000  1998.000000  \n",
       "mean     16.018075    44.240954  \n",
       "std      14.971164    22.164655  \n",
       "min       0.000000     0.866660  \n",
       "25%       4.087760    24.354375  \n",
       "50%      10.257050    42.340550  \n",
       "75%      25.211500    61.699125  \n",
       "max      58.649100    82.500000  "
      ]
     },
     "execution_count": 7,
     "metadata": {},
     "output_type": "execute_result"
    }
   ],
   "source": [
    "df_cleaned.describe()"
   ]
  },
  {
   "cell_type": "markdown",
   "metadata": {},
   "source": [
    "In the above table we see that we have that the description is only made for the numerical columns, and as mentioned we will start of by using some of these and then include more and more in our model as we go along. \n",
    "\n",
    "We see that we have a total of XXXX rows in the dataset and hence XXXX observations. We start by looking at one column at a time. \n",
    "\n",
    "In the '*rating*' column we see that the mean rating is ~4.16 with a standard deviation of ~0.38. This is a fairly high average rating. We also see that the 1st quantile is 3.9 and we can conclude that most wines in the Vivino.com network has a high rating. \n",
    "\n",
    "For the '*year*' column we see that the years of the wine is spread from 1917 up until 2019. However, as the mean year is around 2011, we might have to check whether there are som outliers that a worth removing from our dataset before we begin modelling. \n",
    "\n",
    "In the '*price, kr.*' column we inspect the prices of the wines. Here we see that the prices span from just 11 kr. to 11.500. As the mean is ~466 kr. and the standard deviation is ~821, the minimum value seems resonible (although that's a very cheap red wine, **more on that in the discussion of the data quality later**), but the maximum value of 11.500 kr. seems like an outlier and we will have to check whether some of these high prices should be removed. \n",
    "\n",
    "For the four last columns with the taste characteristics we see that all values span from 0% to 82.5%. This was expected as the numbers represent percentages, however there seems to be a static upper cap on the maximum values. Inspecting the Vivino.com site we see that it looks like there is indeed a maximum cap of how high the percentages can get (**more on that in the discussion of the data quality later**). "
   ]
  },
  {
   "cell_type": "markdown",
   "metadata": {},
   "source": [
    "### Detecting Outliers"
   ]
  },
  {
   "cell_type": "markdown",
   "metadata": {},
   "source": [
    "In order to detect possible outliers in our dataset, we start by making boxplots of the different variables in order to get a better insight of the distribution of the values in the columns. "
   ]
  },
  {
   "cell_type": "code",
   "execution_count": 128,
   "metadata": {},
   "outputs": [
    {
     "data": {
      "text/plain": [
       "Text(0.5, 0, '')"
      ]
     },
     "execution_count": 128,
     "metadata": {},
     "output_type": "execute_result"
    },
    {
     "data": {
      "image/png": "[encoded data removed]",
      "text/plain": [
       "<Figure size 1440x504 with 7 Axes>"
      ]
     },
     "metadata": {},
     "output_type": "display_data"
    }
   ],
   "source": [
    "fig, ax = plt.subplots(2, 4, figsize=(20,7))\n",
    "fig.delaxes(ax[1,3]) # Removing the 8th subplot\n",
    "fig.subplots_adjust(hspace=0.3) # Adding space between rows\n",
    "sns.set_style(\"whitegrid\")\n",
    "fig.suptitle('Distributions of ...', fontsize=20)\n",
    "\n",
    "bp1 = sns.boxplot(df_cleaned['rating'], ax=ax[0][0])\n",
    "bp2 = sns.boxplot(df_cleaned['year'], ax=ax[0][1])\n",
    "bp3 = sns.boxplot(df_cleaned['price, kr.'], ax=ax[0][2])\n",
    "bp4 = sns.boxplot(df_cleaned['light-bold'], ax=ax[0][3])\n",
    "bp5 = sns.boxplot(df_cleaned['smooth-tannic'], ax=ax[1][0])\n",
    "bp6 = sns.boxplot(df_cleaned['dry-sweet'], ax=ax[1][1])\n",
    "bp7 = sns.boxplot(df_cleaned['soft-acidic'], ax=ax[1][2])\n",
    "\n",
    "ax[0][0].set_title('Ratings')\n",
    "ax[0][1].set_title('Years')\n",
    "ax[0][2].set_title('Prices (kr.)')\n",
    "ax[0][3].set_title('Light vs. Bold')\n",
    "ax[1][0].set_title('Smooth vs. Tannic')\n",
    "ax[1][1].set_title('Dry vs. Sweet')\n",
    "ax[1][2].set_title('Soft vs. Acidic')\n",
    "\n",
    "ax[0][0].set_xlabel('')\n",
    "ax[0][1].set_xlabel('')\n",
    "ax[0][2].set_xlabel('')\n",
    "ax[0][3].set_xlabel('')\n",
    "ax[1][0].set_xlabel('')\n",
    "ax[1][1].set_xlabel('')\n",
    "ax[1][2].set_xlabel('')"
   ]
  },
  {
   "cell_type": "markdown",
   "metadata": {},
   "source": [
    "From the above we see that most of the values are evenly spread for the different variables. However, the '*year*' and '*price, kr.*' variables have a lot of outliers in the left and right part of the boxplots respectively. We see that most of the wines are produced between 2000 and 2019 at a price levet from 0 kr. to ~1400 kr. The values outside these limits seem to be outliers. \n",
    "\n",
    "In order to streamline the data and get the best performance of the machine learning model, we want to remove these outliers. At first we examine how many outliers we have in order to check whether it is wise to remove them. "
   ]
  },
  {
   "cell_type": "code",
   "execution_count": 231,
   "metadata": {},
   "outputs": [
    {
     "name": "stdout",
     "output_type": "stream",
     "text": [
      "There are 1998 observations in total.\n",
      "\n",
      "There are 97 observations before year 2000, which corresponds to 4.9 % of the data.\n",
      "\n",
      "There are 106 observations with a price above 1400 kr., which corresponds to 5.3 % of the data.\n",
      "\n",
      "There are 172 observations before year 2000 OR with a price above 1400 kr., which corresponds to 8.6 % of the data.\n"
     ]
    }
   ],
   "source": [
    "print('There are', len(df_cleaned), 'observations in total.')\n",
    "print()\n",
    "print('There are', np.count_nonzero(df_cleaned['year']<2000), 'observations before year 2000, which corresponds to',\n",
    "     round(np.count_nonzero(df_cleaned['year']<2000)/len(df_cleaned)*100,1), '% of the data.')\n",
    "print()\n",
    "print('There are', np.count_nonzero(df_cleaned['price, kr.']>1400), 'observations with a price above 1400 kr., which corresponds to',\n",
    "     round(np.count_nonzero(df_cleaned['price, kr.']>1400)/len(df_cleaned)*100,1), '% of the data.')\n",
    "print()\n",
    "print('There are', np.count_nonzero(np.logical_or(df_cleaned['year']<2000, df_cleaned['price, kr.']>1400)), 'observations before year 2000 OR with a price above 1400 kr., which corresponds to',\n",
    "     round(np.count_nonzero(np.logical_or(df_cleaned['year']<2000, df_cleaned['price, kr.']>1400))/len(df_cleaned)*100,1), '% of the data.')"
   ]
  },
  {
   "cell_type": "markdown",
   "metadata": {},
   "source": [
    "From the above we see that removing the outliers in columns '*year*' and '*price, kr.*' will only remove 8.6% of our observations and as so we remove them. We now use the *z*-score in order to correctly find and remove the true outliers. To find the *z*-scores we take each observation value, subtract the mean and divide this by the standard deviation. As such, the score tells us how many standard deviations the observation value is from the mean. Mathematically the *z*-score is defined as follows: \n",
    "\\begin{align}\n",
    "z = \\frac{X-\\mu}{\\sigma} \\\\\n",
    "\\end{align}\n",
    "\n",
    "We calculate the *z*-score for each observation and characterise an observation as an outlier it the *z*-score of that observation is greater than 3 or less than -3. We use 3 as threshold based on the empirical rule. \n",
    "\n",
    "**Kilder**: \n",
    "\n",
    "https://en.wikipedia.org/wiki/Standard_score \n",
    "\n",
    "https://en.wikipedia.org/wiki/68%E2%80%9395%E2%80%9399.7_rule "
   ]
  },
  {
   "cell_type": "code",
   "execution_count": 233,
   "metadata": {},
   "outputs": [
    {
     "name": "stdout",
     "output_type": "stream",
     "text": [
      "The outliers in the \"price, kr.\" column are:\n",
      " [2942.18, 2942.18, 2971.98, 2992.09, 3017.41, 3053.91, 3071.09, 3240.12, 3314.98, 3314.98, 3314.98, 3314.98, 3414.43, 3491.51, 3595.0, 3682.57, 4022.22, 4078.79, 4196.36, 4317.18, 4373.0, 4431.89, 4958.33, 5000.0, 5165.2, 5396.48, 5888.67, 5993.71, 6167.41, 6167.41, 6167.41, 7058.25, 7448.56, 7500.0, 8007.2, 8542.5, 10022.04, 10022.04, 11500.0] \n",
      "Number of outliers: 39\n"
     ]
    }
   ],
   "source": [
    "# Outliers in the 'price, kr.' column\n",
    "threshold = 3\n",
    "outliers_price = [] \n",
    "mean_price = df_cleaned['price, kr.'].values.mean()\n",
    "std_price = df_cleaned['price, kr.'].values.std() \n",
    "for x in df_cleaned['price, kr.'].values:\n",
    "    z = (x-mean_price)/std_price\n",
    "    if abs(z) > threshold: \n",
    "        outliers_price.append(x) \n",
    "outliers_price = sorted(outliers_price)\n",
    "print('The outliers in the \"price, kr.\" column are:\\n', outliers_price, '\\nNumber of outliers:', len(outliers_price))"
   ]
  },
  {
   "cell_type": "code",
   "execution_count": 232,
   "metadata": {},
   "outputs": [
    {
     "name": "stdout",
     "output_type": "stream",
     "text": [
      "The outliers in the \"year\" column are:\n",
      " [1917, 1921, 1947, 1954, 1959, 1962, 1973, 1973, 1974, 1978, 1982, 1982, 1982, 1985, 1985, 1985, 1985, 1988, 1989, 1989, 1989, 1990, 1990, 1990, 1990] \n",
      "Number of outliers: 25\n"
     ]
    }
   ],
   "source": [
    "# Outliers in the 'year' column\n",
    "threshold = 3\n",
    "outliers_year = [] \n",
    "mean_year = df_cleaned['year'].values.mean()\n",
    "std_year = df_cleaned['year'].values.std() \n",
    "for x in df_cleaned['year'].values:\n",
    "    z = (x-mean_year)/std_year\n",
    "    if abs(z) > threshold: \n",
    "        outliers_year.append(x) \n",
    "outliers_year = sorted(outliers_year)\n",
    "print('The outliers in the \"year\" column are:\\n', outliers_year, '\\nNumber of outliers:', len(outliers_year))"
   ]
  },
  {
   "cell_type": "markdown",
   "metadata": {},
   "source": [
    "As we see from the above calculations, we were a bit harsh on the range of outliers as we now \"only\" have 39 and 25 outliers for price and year respectively. We will now remove these outliers from out dataset. "
   ]
  },
  {
   "cell_type": "markdown",
   "metadata": {},
   "source": [
    "### Inspecting Correlations"
   ]
  },
  {
   "cell_type": "markdown",
   "metadata": {},
   "source": []
  },
  {
   "cell_type": "markdown",
   "metadata": {},
   "source": [
    "## Applying Supervised Machine Learning"
   ]
  },
  {
   "cell_type": "markdown",
   "metadata": {},
   "source": [
    "To begin with we are unaware which features effect the ratings of the wines. Therefore, we start our model simply by predicting the rating based on the price of the wine and then build from there into a more complicated and hopefully accurate model. \n",
    "First, we plot the price against the rating for our data and see if we can detect patterns or the likes. "
   ]
  },
  {
   "cell_type": "code",
   "execution_count": 25,
   "metadata": {},
   "outputs": [
    {
     "data": {
      "text/plain": [
       "<matplotlib.collections.PathCollection at 0x1a235ccf50>"
      ]
     },
     "execution_count": 25,
     "metadata": {},
     "output_type": "execute_result"
    },
    {
     "data": {
      "image/png": "[encoded data removed]",
      "text/plain": [
       "<Figure size 432x288 with 1 Axes>"
      ]
     },
     "metadata": {
      "needs_background": "light"
     },
     "output_type": "display_data"
    }
   ],
   "source": [
    "fig = plt.scatter(df_cleaned['rating'], df_cleaned['price, kr.']) \n",
    "fig"
   ]
  },
  {
   "cell_type": "code",
   "execution_count": null,
   "metadata": {},
   "outputs": [],
   "source": []
  },
  {
   "cell_type": "code",
   "execution_count": null,
   "metadata": {},
   "outputs": [],
   "source": []
  },
  {
   "cell_type": "code",
   "execution_count": null,
   "metadata": {},
   "outputs": [],
   "source": []
  },
  {
   "cell_type": "code",
   "execution_count": null,
   "metadata": {},
   "outputs": [],
   "source": []
  },
  {
   "cell_type": "code",
   "execution_count": null,
   "metadata": {},
   "outputs": [],
   "source": [
    "# Splitting the data in target and data (y and x)\n",
    "y = df_ready.rating.to_numpy()\n",
    "X = df_ready.drop(['rating'],axis=1) "
   ]
  }
 ],
 "metadata": {
  "kernelspec": {
   "display_name": "Python 3",
   "language": "python",
   "name": "python3"
  },
  "language_info": {
   "codemirror_mode": {
    "name": "ipython",
    "version": 3
   },
   "file_extension": ".py",
   "mimetype": "text/x-python",
   "name": "python",
   "nbconvert_exporter": "python",
   "pygments_lexer": "ipython3",
   "version": "3.7.6"
  }
 },
 "nbformat": 4,
 "nbformat_minor": 4
}
